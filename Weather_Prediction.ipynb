{
  "nbformat": 4,
  "nbformat_minor": 0,
  "metadata": {
    "colab": {
      "provenance": []
    },
    "kernelspec": {
      "name": "python3",
      "display_name": "Python 3"
    },
    "language_info": {
      "name": "python"
    }
  },
  "cells": [
    {
      "cell_type": "code",
      "execution_count": null,
      "metadata": {
        "id": "DYEcdD0534Vr"
      },
      "outputs": [],
      "source": [
        "import requests #This lib is used to fetch api\n",
        "import pandas as pd # This lib is used to handle and anlyse data\n",
        "import numpy as np # This lib is used for numerical operation\n",
        "from sklearn.model_selection import train_test_split # to split data into train and test\n",
        "from sklearn.preprocessing import LabelEncoder # to convert categorical data into numerical values\n",
        "from sklearn.ensemble import RandomForestClassifier, RandomForestRegressor #models for calssification and regression train\n",
        "from sklearn.metrics import mean_squared_error #to measure the accuracy of our predictions\n",
        "from datetime import datetime, timedelta # to handle date and time\n",
        "import pytz"
      ]
    },
    {
      "cell_type": "code",
      "source": [
        "API_KEY = 'fe5525a5c13bed4c6b78e6ef38b48c19' #api key\n",
        "BASE_URL = 'https://api.openweathermap.org/data/2.5/' #base url"
      ],
      "metadata": {
        "id": "BCY5uG7o4JUc"
      },
      "execution_count": null,
      "outputs": []
    },
    {
      "cell_type": "code",
      "source": [
        "#Fetch Current Weather Data"
      ],
      "metadata": {
        "id": "Ely4fQjA5P6n"
      },
      "execution_count": null,
      "outputs": []
    },
    {
      "cell_type": "code",
      "source": [
        "def get_current_weather(city):\n",
        "  url = f\"{BASE_URL}weather?q={city}&appid={API_KEY}&units=metric\" #construct the API request url\n",
        "  response = requests.get(url) # send the get request to api\n",
        "  data = response.json()\n",
        "  return {\n",
        "      'city': data['name'],\n",
        "      'current_temp': round(data['main']['temp']),\n",
        "      'feels_like': round(data['main']['feels_like']),\n",
        "      'temp_min': round(data['main']['temp_min']),\n",
        "      'temp_max': round(data['main']['temp_max']),\n",
        "      'humidity': round(data['main']['humidity']),\n",
        "      'description': data['weather'][0]['description'],\n",
        "      'country': data['sys']['country'],\n",
        "      'wind_gust_dir': data['wind']['deg'],\n",
        "      'pressure': data['main']['pressure'],\n",
        "      'Wind_Gust_Speed': data['wind']['speed']\n",
        "  }"
      ],
      "metadata": {
        "id": "5pBnBfU65kvB"
      },
      "execution_count": null,
      "outputs": []
    },
    {
      "cell_type": "code",
      "source": [
        "#Read Historical Data"
      ],
      "metadata": {
        "id": "RiIljIZa-_gl"
      },
      "execution_count": null,
      "outputs": []
    },
    {
      "cell_type": "code",
      "source": [
        "def read_historical_data(filename):\n",
        "  df = pd.read_csv(filename) # load csv file into dataframe\n",
        "  df = df.dropna() # remove rows with missing values\n",
        "  df = df.drop_duplicates()\n",
        "  return df\n"
      ],
      "metadata": {
        "id": "rPkp6_3J_C1f"
      },
      "execution_count": null,
      "outputs": []
    },
    {
      "cell_type": "code",
      "source": [
        "#Prepare data for training"
      ],
      "metadata": {
        "id": "DTsd1CNb_NfJ"
      },
      "execution_count": null,
      "outputs": []
    },
    {
      "cell_type": "code",
      "source": [
        "def prepare_data(data):\n",
        "  le = LabelEncoder() #create a LabelEncoder instance\n",
        "  data['WindGustDir'] = le.fit_transform(data['WindGustDir'])\n",
        "  data['RainTomorrow'] = le.fit_transform(data['RainTomorrow'])\n",
        "\n",
        "  #define the feature variable and target variable\n",
        "  X = data[['MinTemp', 'MaxTemp', 'WindGustDir', 'WindGustSpeed', 'Humidity', 'Pressure', 'Temp']]\n",
        "  y = data['RainTomorrow'] #target variable\n",
        "\n",
        "  return X, y, le # return variable, target variable and label encoder"
      ],
      "metadata": {
        "id": "QxUJp6X_AB2K"
      },
      "execution_count": null,
      "outputs": []
    },
    {
      "cell_type": "code",
      "source": [
        "#Train Rain Prediction Model"
      ],
      "metadata": {
        "id": "5xNGFjLoBfNd"
      },
      "execution_count": null,
      "outputs": []
    },
    {
      "cell_type": "code",
      "source": [
        "def train_rain_model(X, y):\n",
        "  X_train, X_test, y_train, y_test = train_test_split(X, y, test_size=0.2, random_state=42)\n",
        "  model = RandomForestClassifier(n_estimators=100, random_state=42)\n",
        "  model.fit(X_train, y_train) #train the model\n",
        "\n",
        "  y_pred = model.predict(X_test) # to make prediction score\n",
        "  print(\"Mean squared error for rain model\")\n",
        "  print(mean_squared_error(y_test, y_pred))\n",
        "\n",
        "  return model"
      ],
      "metadata": {
        "id": "CAg5gixPBhP9"
      },
      "execution_count": null,
      "outputs": []
    },
    {
      "cell_type": "code",
      "source": [
        "#Prepare regression data"
      ],
      "metadata": {
        "id": "EJT7PQRYDpyp"
      },
      "execution_count": null,
      "outputs": []
    },
    {
      "cell_type": "code",
      "source": [
        "def prepare_regression_data(data, feature):\n",
        "  X, y = [], [] #initialize list for feature and target values\n",
        "\n",
        "  for i in range(len(data) -1 ):\n",
        "    X.append(data[feature].iloc[i])\n",
        "    y.append(data[feature].iloc[i+1])\n",
        "\n",
        "  X = np.array(X).reshape(-1,1)\n",
        "  y = np.array(y)\n",
        "  return X, y"
      ],
      "metadata": {
        "id": "qnSnEVuzDvEd"
      },
      "execution_count": null,
      "outputs": []
    },
    {
      "cell_type": "code",
      "source": [
        "#Train regression model"
      ],
      "metadata": {
        "id": "sUpi_DtlGOz4"
      },
      "execution_count": null,
      "outputs": []
    },
    {
      "cell_type": "code",
      "source": [
        "def train_regression_model(X, y):\n",
        "  model = RandomForestRegressor(n_estimators=100, random_state=42)\n",
        "  model.fit(X, y)\n",
        "  return model"
      ],
      "metadata": {
        "id": "89rDm6VwGQWc"
      },
      "execution_count": null,
      "outputs": []
    },
    {
      "cell_type": "code",
      "source": [
        "#Predict Future"
      ],
      "metadata": {
        "id": "LIS4VufdGZ_3"
      },
      "execution_count": null,
      "outputs": []
    },
    {
      "cell_type": "code",
      "source": [
        "def predict_future(model, current_value):\n",
        "  predictions = [current_value]\n",
        "\n",
        "  for i in range(5):\n",
        "    next_value = model.predict(np.array([[predictions[-1]]]))\n",
        "    predictions.append(next_value[0])\n",
        "  return predictions[1:]"
      ],
      "metadata": {
        "id": "fbgNGN__GchH"
      },
      "execution_count": null,
      "outputs": []
    },
    {
      "cell_type": "code",
      "source": [
        "#Weather Analysis Function"
      ],
      "metadata": {
        "id": "YRZFZZiSHeAf"
      },
      "execution_count": null,
      "outputs": []
    },
    {
      "cell_type": "code",
      "source": [
        "def weather_view():\n",
        "  city = input(\"Enter any city name: \")\n",
        "  current_weather = get_current_weather(city)\n",
        "\n",
        "  #load historical data\n",
        "  historical_data = read_historical_data('/content/drive/MyDrive/weather.csv')\n",
        "\n",
        "  #prepare and train rain prediction model\n",
        "  X, y, le = prepare_data(historical_data)\n",
        "  rain_model = train_rain_model(X, y)\n",
        "\n",
        "  #map wind direction to compass points\n",
        "  wind_deg = current_weather['wind_gust_dir'] % 360\n",
        "  compass_points = [\n",
        "      (\"N\", 0, 11.25), (\"NNE\", 11.25, 33.75), (\"NE\", 33.75, 56.25),\n",
        "      (\"ENE\", 56.25, 78.75), (\"E\", 78.75, 101.25), (\"ESE\", 101.25, 123.75),\n",
        "      (\"SE\", 123.75, 146.25), (\"SSE\", 146.25, 168.75), (\"S\", 168.75, 191.25),\n",
        "      (\"SSW\", 191.25, 213.75), (\"SW\", 213.75, 236.25), (\"WSW\", 236.25, 258.75),\n",
        "      (\"W\", 258.75, 281.25), (\"WNW\", 281.25, 303.75), (\"NW\", 303.75, 326.25),\n",
        "      (\"NNW\", 326.25, 348.75)\n",
        "  ]\n",
        "  compass_direction = next(point for point, start, end in compass_points if start <= wind_deg < end)\n",
        "  compass_direction_encoded = le.transform([compass_direction])[0] if compass_direction in le.classes_ else -1\n",
        "  current_data = {\n",
        "      'MinTemp': current_weather['temp_min'],\n",
        "      'MaxTemp': current_weather['temp_max'],\n",
        "      'WindGustDir': compass_direction_encoded,\n",
        "      'WindGustSpeed': current_weather['Wind_Gust_Speed'],\n",
        "      'Humidity': current_weather['humidity'],\n",
        "      'Pressure': current_weather['pressure'],\n",
        "      'Temp': current_weather['current_temp']\n",
        "  }\n",
        "\n",
        "  current_df = pd.DataFrame([current_data])\n",
        "\n",
        "  #rain prediction\n",
        "  rain_prediction = rain_model.predict(current_df)[0]\n",
        "\n",
        "  #prepare regression model for temperature and humidity\n",
        "\n",
        "  X_temp, y_temp = prepare_regression_data(historical_data, 'Temp')\n",
        "  X_hum, y_hum = prepare_regression_data(historical_data, 'Humidity')\n",
        "\n",
        "  temp_model = train_regression_model(X_temp, y_temp)\n",
        "  hum_model = train_regression_model(X_hum, y_hum)\n",
        "\n",
        "  #Predict future temp and humidity\n",
        "  future_temp = predict_future(temp_model, current_weather['temp_min'])\n",
        "  future_humidity = predict_future(hum_model, current_weather['humidity'])\n",
        "\n",
        "  #prepare time for future predictions\n",
        "  timezone = pytz.timezone('Asia/Kathmandu')\n",
        "  now = datetime.now(timezone)\n",
        "  next_hour = now + timedelta(hours=1)\n",
        "  next_hour = next_hour.replace(minute=0, second=0, microsecond=0)\n",
        "\n",
        "  future_times = [(next_hour + timedelta(hours=i)).strftime(\"%H:00\") for i in range(5)]\n",
        "\n",
        "  #Display results\n",
        "\n",
        "  print(f\"City: {city}, {current_weather['country']}\")\n",
        "  print(f\"Current Temperature: {current_weather['current_temp']}°C\")\n",
        "  print(f\"Feels like: {current_weather['feels_like']}\")\n",
        "  print(f\"Minimum Temperature : {current_weather['temp_min']}°C\")\n",
        "  print(f\"Maximum Temperature : {current_weather['temp_max']}°C\")\n",
        "  print(f\"Humidity : {current_weather['humidity']}\")\n",
        "  print(f\"Weather Prediction : {current_weather['description']}\")\n",
        "  print(f\"Rain Prediction : {'Yes' if rain_prediction else 'No'}\")\n",
        "\n",
        "  print(\"\\nFuture Temperature Predictions:\")\n",
        "\n",
        "  for time, temp in zip(future_times, future_temp):\n",
        "    print(f\"{time}: {round(temp, 1)}°C\")\n",
        "\n",
        "  print(\"\\nFuture Humidity Predictions:\")\n",
        "  for time, humidity in zip(future_times, future_humidity):\n",
        "    print(f\"{time}: {round(humidity, 1)}%\")\n",
        "weather_view()\n"
      ],
      "metadata": {
        "id": "8JZ_bwd-HjoZ",
        "colab": {
          "base_uri": "https://localhost:8080/"
        },
        "outputId": "5ae42403-cba2-44b9-a292-ee578da9bec6"
      },
      "execution_count": null,
      "outputs": [
        {
          "output_type": "stream",
          "name": "stdout",
          "text": [
            "Enter any city name: new york\n",
            "Mean squared error for rain model\n",
            "0.1506849315068493\n",
            "City: new york, US\n",
            "Current Temperature: 22°C\n",
            "Feels like: 21\n",
            "Minimum Temperature : 21°C\n",
            "Maximum Temperature : 23°C\n",
            "Humidity : 43\n",
            "Weather Prediction : clear sky\n",
            "Rain Prediction : No\n",
            "\n",
            "Future Temperature Predictions:\n",
            "23:00: 18.7°C\n",
            "00:00: 20.2°C\n",
            "01:00: 16.2°C\n",
            "02:00: 15.4°C\n",
            "03:00: 15.6°C\n",
            "\n",
            "Future Humidity Predictions:\n",
            "23:00: 46.8%\n",
            "00:00: 47.2%\n",
            "01:00: 47.2%\n",
            "02:00: 47.2%\n",
            "03:00: 47.2%\n"
          ]
        }
      ]
    },
    {
      "cell_type": "code",
      "source": [],
      "metadata": {
        "id": "LRcKPFjNosrf"
      },
      "execution_count": null,
      "outputs": []
    }
  ]
}